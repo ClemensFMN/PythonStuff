{
 "cells": [
  {
   "cell_type": "markdown",
   "id": "144732e9",
   "metadata": {},
   "source": [
    "Binary Classification using a linear neural network with PyTorch"
   ]
  },
  {
   "cell_type": "code",
   "execution_count": 1,
   "id": "0a1e660e",
   "metadata": {},
   "outputs": [],
   "source": [
    "import torch\n",
    "from torch import nn\n",
    "from torch.utils import data\n",
    "import matplotlib.pyplot as plt\n",
    "import numpy as np\n",
    "from sklearn.datasets import make_classification"
   ]
  },
  {
   "cell_type": "markdown",
   "id": "b9f65318",
   "metadata": {},
   "source": [
    "We use scikit learn to generate points in 2D\n",
    "\n",
    "In addition, load_array creates a DataLoader for training"
   ]
  },
  {
   "cell_type": "code",
   "execution_count": 65,
   "id": "a7b4aaea",
   "metadata": {},
   "outputs": [],
   "source": [
    "def synthetic_data(num_examples):\n",
    "    X, Y = make_classification(n_samples=num_examples, n_features=2, n_redundant=0, n_informative=2,\n",
    "                             n_clusters_per_class=1)\n",
    "    return X, Y\n",
    "\n",
    "\n",
    "def load_array(data_arrays, batch_size, is_train=True):\n",
    "    \"\"\"Construct a PyTorch data iterator.\"\"\"\n",
    "    dataset = data.TensorDataset(*data_arrays)\n",
    "    return data.DataLoader(dataset, batch_size, shuffle=is_train)"
   ]
  },
  {
   "cell_type": "markdown",
   "id": "905ade3c",
   "metadata": {},
   "source": [
    "these are the two training functions; the first one training on a subset of the training data (as provided by train_iter) and the second one calling the first one for num_epoch times."
   ]
  },
  {
   "cell_type": "code",
   "execution_count": 3,
   "id": "e2328814",
   "metadata": {},
   "outputs": [],
   "source": [
    "def train_epoch(net, train_iter, loss, updater):\n",
    "    \"\"\"The training loop defined in Chapter 3.\"\"\"\n",
    "    # Set the model to training mode\n",
    "    # if isinstance(net, torch.nn.Module):\n",
    "    net.train()\n",
    "    for X, y in train_iter:\n",
    "        # Compute gradients and update parameters\n",
    "        y_hat = net(X.float())\n",
    "        l = loss(y_hat, y)\n",
    "        # Using PyTorch in-built optimizer & loss criterion\n",
    "        updater.zero_grad()\n",
    "        l.backward()\n",
    "        updater.step()\n",
    "\n",
    "\n",
    "def train(net, train_iter, loss, num_epochs, updater):\n",
    "    \"\"\"Train a model (defined in Chapter 3).\"\"\"\n",
    "    for epoch in range(num_epochs):\n",
    "        train_epoch(net, train_iter, loss, updater)"
   ]
  },
  {
   "cell_type": "code",
   "execution_count": 72,
   "id": "adcf7ae2",
   "metadata": {},
   "outputs": [],
   "source": [
    "# we want to classify a 2-d input into 2 classes\n",
    "# TODO fix the warning about missing dimension\n",
    "net = nn.Sequential(nn.Linear(2, 2), nn.Softmax())\n",
    "\n",
    "\n",
    "def init_weights(m):\n",
    "    if type(m) == nn.Linear:\n",
    "        nn.init.normal_(m.weight, std=0.01)\n",
    "\n",
    "net.apply(init_weights);\n",
    "\n",
    "# our loss function in case of classification\n",
    "loss = nn.CrossEntropyLoss()\n",
    "\n",
    "\n",
    "trainer = torch.optim.SGD(net.parameters(), lr=0.1)\n",
    "# trainer = torch.optim.Adam(net.parameters(), lr=0.001)\n",
    "\n",
    "\n",
    "batch_size = 10\n",
    "\n",
    "features, labels = synthetic_data(100)\n",
    "f = torch.tensor(features)\n",
    "l = torch.tensor(labels)\n",
    "\n",
    "data_iter = load_array((f, l), batch_size)\n",
    "\n",
    "\n",
    "num_epochs = 10\n",
    "# and actually train the network\n",
    "train(net, data_iter, loss, num_epochs, trainer)"
   ]
  },
  {
   "cell_type": "code",
   "execution_count": null,
   "id": "66707737",
   "metadata": {},
   "outputs": [],
   "source": [
    "# we can take a look at the weights of the NN after training\n",
    "# net[0].weight"
   ]
  },
  {
   "cell_type": "markdown",
   "id": "b28daefd",
   "metadata": {},
   "source": [
    "Now we actually use the NN\n",
    "\n",
    "We will plot one NN output as we move along a line in the 2D area"
   ]
  },
  {
   "cell_type": "code",
   "execution_count": 67,
   "id": "601a8e32",
   "metadata": {},
   "outputs": [],
   "source": [
    "# let's create a range of elements...\n",
    "xpred = torch.tensor(np.linspace(-4,4,20))"
   ]
  },
  {
   "cell_type": "code",
   "execution_count": 68,
   "id": "1d607d3f",
   "metadata": {},
   "outputs": [],
   "source": [
    "# stack them together with something constant\n",
    "inp = torch.stack((xpred, torch.ones_like(xpred)), dim=-1)"
   ]
  },
  {
   "cell_type": "code",
   "execution_count": 73,
   "id": "95e34d1b",
   "metadata": {},
   "outputs": [
    {
     "data": {
      "image/png": "[encoded data removed]",
      "text/plain": [
       "<Figure size 432x288 with 1 Axes>"
      ]
     },
     "metadata": {
      "needs_background": "light"
     },
     "output_type": "display_data"
    }
   ],
   "source": [
    "# let's plot the data\n",
    "plt.scatter(f[:, 0], f[:, 1], marker='o', c=l, s=25, edgecolor='k')\n",
    "# and the line along we plot the NN output\n",
    "plt.plot(inp[:, 0], inp[:, 1], c='r')\n",
    "\n",
    "plt.grid()\n",
    "plt.show()"
   ]
  },
  {
   "cell_type": "code",
   "execution_count": 62,
   "id": "457cff4d",
   "metadata": {},
   "outputs": [
    {
     "name": "stderr",
     "output_type": "stream",
     "text": [
      "/usr/lib/python3.9/site-packages/torch/nn/modules/container.py:119: UserWarning: Implicit dimension choice for softmax has been deprecated. Change the call to include dim=X as an argument.\n",
      "  input = module(input)\n"
     ]
    },
    {
     "data": {
      "text/plain": [
       "tensor([0.5363, 0.4637], grad_fn=<SoftmaxBackward>)"
      ]
     },
     "execution_count": 62,
     "metadata": {},
     "output_type": "execute_result"
    }
   ],
   "source": [
    "# using the NN for \"point-wise\" prediction\n",
    "xtest=torch.tensor([0, -2])\n",
    "net(xtest.float())"
   ]
  },
  {
   "cell_type": "code",
   "execution_count": 74,
   "id": "7f1950ac",
   "metadata": {},
   "outputs": [
    {
     "name": "stderr",
     "output_type": "stream",
     "text": [
      "/usr/lib/python3.9/site-packages/torch/nn/modules/container.py:119: UserWarning: Implicit dimension choice for softmax has been deprecated. Change the call to include dim=X as an argument.\n",
      "  input = module(input)\n"
     ]
    }
   ],
   "source": [
    "# input the points on the line into the NN\n",
    "prob = net(inp.float())"
   ]
  },
  {
   "cell_type": "code",
   "execution_count": 75,
   "id": "d9b6cfe2",
   "metadata": {},
   "outputs": [
    {
     "data": {
      "image/png": "[encoded data removed]",
      "text/plain": [
       "<Figure size 432x288 with 1 Axes>"
      ]
     },
     "metadata": {
      "needs_background": "light"
     },
     "output_type": "display_data"
    }
   ],
   "source": [
    "# and plot the corresponding NN output\n",
    "plt.scatter(xpred,prob[:,1].detach().numpy())\n",
    "plt.grid(True)"
   ]
  }
 ],
 "metadata": {
  "kernelspec": {
   "display_name": "Python 3",
   "language": "python",
   "name": "python3"
  },
  "language_info": {
   "codemirror_mode": {
    "name": "ipython",
    "version": 3
   },
   "file_extension": ".py",
   "mimetype": "text/x-python",
   "name": "python",
   "nbconvert_exporter": "python",
   "pygments_lexer": "ipython3",
   "version": "3.9.5"
  }
 },
 "nbformat": 4,
 "nbformat_minor": 5
}
