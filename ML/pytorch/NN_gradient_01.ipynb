{
 "cells": [
  {
   "cell_type": "code",
   "execution_count": 1,
   "id": "3d01dd99",
   "metadata": {},
   "outputs": [],
   "source": [
    "import torch\n",
    "from torch import nn\n",
    "import numpy as np"
   ]
  },
  {
   "cell_type": "code",
   "execution_count": 24,
   "id": "36158a4f",
   "metadata": {},
   "outputs": [
    {
     "data": {
      "text/plain": [
       "(Parameter containing:\n",
       " tensor([[-0.1265, -0.4986]], requires_grad=True),\n",
       " Parameter containing:\n",
       " tensor([-0.5391], requires_grad=True))"
      ]
     },
     "execution_count": 24,
     "metadata": {},
     "output_type": "execute_result"
    }
   ],
   "source": [
    "net = nn.Linear(2,1)\n",
    "net.weight, net.bias"
   ]
  },
  {
   "cell_type": "markdown",
   "id": "1de1c0be",
   "metadata": {},
   "source": [
    "As stated before, the neural network calculates $y = w_1 x_1 + w_2 x_2$."
   ]
  },
  {
   "cell_type": "code",
   "execution_count": 25,
   "id": "1be91ce8",
   "metadata": {},
   "outputs": [
    {
     "data": {
      "text/plain": [
       "tensor([-1.6627], grad_fn=<AddBackward0>)"
      ]
     },
     "execution_count": 25,
     "metadata": {},
     "output_type": "execute_result"
    }
   ],
   "source": [
    "x = torch.tensor([1.0, 2.0])\n",
    "y = net(x)\n",
    "y"
   ]
  },
  {
   "cell_type": "code",
   "execution_count": 26,
   "id": "b6e3d808",
   "metadata": {},
   "outputs": [
    {
     "data": {
      "text/plain": [
       "array([-1.6627022], dtype=float32)"
      ]
     },
     "execution_count": 26,
     "metadata": {},
     "output_type": "execute_result"
    }
   ],
   "source": [
    "np.sum(x.detach().numpy()*net.weight.detach().numpy()) + net.bias.detach().numpy()"
   ]
  },
  {
   "cell_type": "markdown",
   "id": "b5c3de0b",
   "metadata": {},
   "source": [
    "The overall idea is to tune the neural network's weights in order to minimize some error function $e = f(y, z)$. The error function depends on the neural network's output $y$ and the \"observation\" $z$.\n",
    "\n",
    "We usually modify the weights along the gradient $\\partial e / \\partial w_1$ which can be expressed as follows,\n",
    "\n",
    "$$\n",
    "\\frac{\\partial e}{\\partial w_1} = \\frac{\\partial f}{\\partial y} \\frac{\\partial y}{\\partial w_1}\n",
    "$$\n",
    "\n",
    "The first (partial) derivative depends on the error function and we will deal with that later. For now, let's calculate the gradient of $y$ wrt to the neural network's weights, $w_i$. We have\n",
    "\n",
    "$$\n",
    "\\frac{\\partial y}{\\partial w_1} = x_1\n",
    "$$"
   ]
  },
  {
   "cell_type": "markdown",
   "id": "5bebc35c",
   "metadata": {},
   "source": []
  },
  {
   "cell_type": "code",
   "execution_count": 27,
   "id": "b19eae6c",
   "metadata": {},
   "outputs": [
    {
     "data": {
      "text/plain": [
       "tensor([[1., 2.]])"
      ]
     },
     "execution_count": 27,
     "metadata": {},
     "output_type": "execute_result"
    }
   ],
   "source": [
    "y.backward()\n",
    "net.weight.grad"
   ]
  }
 ],
 "metadata": {
  "kernelspec": {
   "display_name": "Python 3",
   "language": "python",
   "name": "python3"
  },
  "language_info": {
   "codemirror_mode": {
    "name": "ipython",
    "version": 3
   },
   "file_extension": ".py",
   "mimetype": "text/x-python",
   "name": "python",
   "nbconvert_exporter": "python",
   "pygments_lexer": "ipython3",
   "version": "3.9.5"
  }
 },
 "nbformat": 4,
 "nbformat_minor": 5
}
