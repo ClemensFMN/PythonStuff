{
 "cells": [
  {
   "cell_type": "code",
   "execution_count": 32,
   "id": "f4c40cce",
   "metadata": {},
   "outputs": [],
   "source": [
    "import torch\n",
    "from torch import nn\n",
    "import numpy as np"
   ]
  },
  {
   "cell_type": "markdown",
   "id": "edc0662d",
   "metadata": {},
   "source": [
    "# (1,1) Linear Neural Net"
   ]
  },
  {
   "cell_type": "markdown",
   "id": "987c7a4c",
   "metadata": {},
   "source": [
    "Create a (1,1) linear \"neural net\"\n",
    "It has one input and one output and calculates\n",
    "y = weight * x + bias"
   ]
  },
  {
   "cell_type": "code",
   "execution_count": 86,
   "id": "9fca8e00",
   "metadata": {},
   "outputs": [
    {
     "data": {
      "text/plain": [
       "(Parameter containing:\n",
       " tensor([[-0.3517]], requires_grad=True),\n",
       " Parameter containing:\n",
       " tensor([0.9578], requires_grad=True))"
      ]
     },
     "execution_count": 86,
     "metadata": {},
     "output_type": "execute_result"
    }
   ],
   "source": [
    "net = nn.Linear(1,1)\n",
    "net.weight, net.bias"
   ]
  },
  {
   "cell_type": "markdown",
   "id": "e82286b1",
   "metadata": {},
   "source": [
    "throw some input on the \"neural net\"\n",
    "we make a 2 x 1 tensor; i.e. two different inputs"
   ]
  },
  {
   "cell_type": "code",
   "execution_count": 87,
   "id": "18a52f31",
   "metadata": {},
   "outputs": [],
   "source": [
    "x = torch.tensor([[1.0], [2.0]])"
   ]
  },
  {
   "cell_type": "code",
   "execution_count": 88,
   "id": "afeca06e",
   "metadata": {},
   "outputs": [
    {
     "data": {
      "text/plain": [
       "tensor([[0.6061],\n",
       "        [0.2545]], grad_fn=<AddmmBackward>)"
      ]
     },
     "execution_count": 88,
     "metadata": {},
     "output_type": "execute_result"
    }
   ],
   "source": [
    "y = net(x)\n",
    "y"
   ]
  },
  {
   "cell_type": "markdown",
   "id": "77afe7b1",
   "metadata": {},
   "source": [
    "Taking weight & bias from above and calculate output from \"neural net\" by hand..."
   ]
  },
  {
   "cell_type": "code",
   "execution_count": 91,
   "id": "edf91fa3",
   "metadata": {},
   "outputs": [
    {
     "data": {
      "text/plain": [
       "(0.6061, 0.25439999999999996)"
      ]
     },
     "execution_count": 91,
     "metadata": {},
     "output_type": "execute_result"
    }
   ],
   "source": [
    "-0.3517*1+0.9578, -0.3517*2+0.9578"
   ]
  },
  {
   "cell_type": "markdown",
   "id": "c6a446b9",
   "metadata": {},
   "source": [
    "# (2,1) Linear Neural Network\n",
    "\n",
    "Two inputs, one output\n",
    "\n",
    "$y = weight[0]*x[0] + weight[1]*x[1] + bias$\n"
   ]
  },
  {
   "cell_type": "code",
   "execution_count": 72,
   "id": "f7de8aff",
   "metadata": {},
   "outputs": [
    {
     "data": {
      "text/plain": [
       "(Parameter containing:\n",
       " tensor([[-0.4350,  0.2051]], requires_grad=True),\n",
       " Parameter containing:\n",
       " tensor([0.1787], requires_grad=True))"
      ]
     },
     "execution_count": 72,
     "metadata": {},
     "output_type": "execute_result"
    }
   ],
   "source": [
    "net = nn.Linear(2,1)\n",
    "net.weight, net.bias"
   ]
  },
  {
   "cell_type": "markdown",
   "id": "51d073b6",
   "metadata": {},
   "source": [
    "For fun, we also calculate the gradient of y wrt x\n",
    "To this end, we need `x.requires_grad_(True)` and a `detach()` in all x expressions further below"
   ]
  },
  {
   "cell_type": "code",
   "execution_count": 78,
   "id": "a2a1f6ee",
   "metadata": {},
   "outputs": [
    {
     "data": {
      "text/plain": [
       "tensor([0.1540], grad_fn=<AddBackward0>)"
      ]
     },
     "execution_count": 78,
     "metadata": {},
     "output_type": "execute_result"
    }
   ],
   "source": [
    "x = torch.tensor([1.0, 2.0])\n",
    "x.requires_grad_(True)\n",
    "y = net(x)\n",
    "y"
   ]
  },
  {
   "cell_type": "code",
   "execution_count": 81,
   "id": "c32d0ebe",
   "metadata": {},
   "outputs": [
    {
     "data": {
      "text/plain": [
       "(array([[-0.43499947,  0.20514582]], dtype=float32),\n",
       " array([[-0.43499947,  0.41029164]], dtype=float32))"
      ]
     },
     "execution_count": 81,
     "metadata": {},
     "output_type": "execute_result"
    }
   ],
   "source": [
    "net.weight.detach().numpy(), x.detach().numpy()*net.weight.detach().numpy()"
   ]
  },
  {
   "cell_type": "code",
   "execution_count": 83,
   "id": "94da0b50",
   "metadata": {},
   "outputs": [
    {
     "data": {
      "text/plain": [
       "array([0.1539852], dtype=float32)"
      ]
     },
     "execution_count": 83,
     "metadata": {},
     "output_type": "execute_result"
    }
   ],
   "source": [
    "np.sum(x.detach().numpy()*net.weight.detach().numpy()) + net.bias.detach().numpy()"
   ]
  },
  {
   "cell_type": "code",
   "execution_count": 84,
   "id": "9957d0be",
   "metadata": {},
   "outputs": [
    {
     "data": {
      "text/plain": [
       "[('weight',\n",
       "  Parameter containing:\n",
       "  tensor([[-0.4350,  0.2051]], requires_grad=True)),\n",
       " ('bias',\n",
       "  Parameter containing:\n",
       "  tensor([0.1787], requires_grad=True))]"
      ]
     },
     "execution_count": 84,
     "metadata": {},
     "output_type": "execute_result"
    }
   ],
   "source": [
    "list(net.named_parameters())"
   ]
  },
  {
   "cell_type": "markdown",
   "id": "3032d83b",
   "metadata": {},
   "source": [
    "Now we calculate the gradient of y wrt to x. The gradient is equal the weights."
   ]
  },
  {
   "cell_type": "code",
   "execution_count": 85,
   "id": "03ad64d0",
   "metadata": {
    "scrolled": true
   },
   "outputs": [
    {
     "name": "stdout",
     "output_type": "stream",
     "text": [
      "tensor([-0.4350,  0.2051])\n"
     ]
    }
   ],
   "source": [
    "y.backward()\n",
    "print(x.grad)"
   ]
  },
  {
   "cell_type": "markdown",
   "id": "55bf6a08",
   "metadata": {},
   "source": [
    "# (1,1) Network with non-linear activation function (tanh)"
   ]
  },
  {
   "cell_type": "code",
   "execution_count": 148,
   "id": "8b22e77f",
   "metadata": {},
   "outputs": [
    {
     "data": {
      "text/plain": [
       "tensor([0.3251], grad_fn=<TanhBackward>)"
      ]
     },
     "execution_count": 148,
     "metadata": {},
     "output_type": "execute_result"
    }
   ],
   "source": [
    "net = nn.Sequential(nn.Linear(2, 1), nn.Tanh())\n",
    "x = torch.tensor([1.0, 2.0])\n",
    "y = net(x)\n",
    "y"
   ]
  },
  {
   "cell_type": "markdown",
   "id": "e9de419f",
   "metadata": {},
   "source": [
    "What happens? The neural network calculates\n",
    "\n",
    "$y = \\tanh ( weight[0]*x[0] + weight[1]*x[1] + bias )$\n",
    "\n",
    "I.e. it takes the output from the first layer (which is a linear network) and applies the second layer (tanh) to it."
   ]
  },
  {
   "cell_type": "code",
   "execution_count": 159,
   "id": "a8d08ec8",
   "metadata": {},
   "outputs": [
    {
     "data": {
      "text/plain": [
       "array([0.3251395], dtype=float32)"
      ]
     },
     "execution_count": 159,
     "metadata": {},
     "output_type": "execute_result"
    }
   ],
   "source": [
    "np.tanh(\n",
    "    np.sum(\n",
    "        x.numpy()*net[0].weight.detach().numpy())\n",
    "    + net[0].bias.detach().numpy())"
   ]
  }
 ],
 "metadata": {
  "kernelspec": {
   "display_name": "Python 3",
   "language": "python",
   "name": "python3"
  },
  "language_info": {
   "codemirror_mode": {
    "name": "ipython",
    "version": 3
   },
   "file_extension": ".py",
   "mimetype": "text/x-python",
   "name": "python",
   "nbconvert_exporter": "python",
   "pygments_lexer": "ipython3",
   "version": "3.9.5"
  }
 },
 "nbformat": 4,
 "nbformat_minor": 5
}
