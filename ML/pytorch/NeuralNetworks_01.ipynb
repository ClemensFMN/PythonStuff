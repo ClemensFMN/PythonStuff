{
 "cells": [
  {
   "cell_type": "code",
   "execution_count": 14,
   "id": "f4c40cce",
   "metadata": {},
   "outputs": [],
   "source": [
    "import torch\n",
    "from torch import nn\n",
    "import numpy as np"
   ]
  },
  {
   "cell_type": "markdown",
   "id": "edc0662d",
   "metadata": {},
   "source": [
    "# (1,1) Linear Neural Net"
   ]
  },
  {
   "cell_type": "markdown",
   "id": "987c7a4c",
   "metadata": {},
   "source": [
    "Create a (1,1) linear \"neural net\"\n",
    "It has one input and one output and calculates\n",
    "y = weight * x + bias"
   ]
  },
  {
   "cell_type": "code",
   "execution_count": 15,
   "id": "9fca8e00",
   "metadata": {},
   "outputs": [
    {
     "data": {
      "text/plain": [
       "(Parameter containing:\n",
       " tensor([[-0.1086]], requires_grad=True),\n",
       " Parameter containing:\n",
       " tensor([0.3745], requires_grad=True))"
      ]
     },
     "execution_count": 15,
     "metadata": {},
     "output_type": "execute_result"
    }
   ],
   "source": [
    "net = nn.Linear(1,1)\n",
    "net.weight, net.bias"
   ]
  },
  {
   "cell_type": "markdown",
   "id": "e82286b1",
   "metadata": {},
   "source": [
    "throw some input on the \"neural net\"\n",
    "we make a 2 x 1 tensor; i.e. two different inputs"
   ]
  },
  {
   "cell_type": "code",
   "execution_count": 16,
   "id": "18a52f31",
   "metadata": {},
   "outputs": [],
   "source": [
    "x = torch.tensor([[1.0], [2.0]])"
   ]
  },
  {
   "cell_type": "code",
   "execution_count": 17,
   "id": "afeca06e",
   "metadata": {},
   "outputs": [
    {
     "data": {
      "text/plain": [
       "tensor([[0.2659],\n",
       "        [0.1573]], grad_fn=<AddmmBackward>)"
      ]
     },
     "execution_count": 17,
     "metadata": {},
     "output_type": "execute_result"
    }
   ],
   "source": [
    "y = net(x)\n",
    "y"
   ]
  },
  {
   "cell_type": "markdown",
   "id": "77afe7b1",
   "metadata": {},
   "source": [
    "Taking weight & bias from above and calculate output from \"neural net\" by hand..."
   ]
  },
  {
   "cell_type": "code",
   "execution_count": 18,
   "id": "edf91fa3",
   "metadata": {},
   "outputs": [
    {
     "data": {
      "text/plain": [
       "(0.6061, 0.25439999999999996)"
      ]
     },
     "execution_count": 18,
     "metadata": {},
     "output_type": "execute_result"
    }
   ],
   "source": [
    "-0.3517*1+0.9578, -0.3517*2+0.9578"
   ]
  },
  {
   "cell_type": "markdown",
   "id": "c6a446b9",
   "metadata": {},
   "source": [
    "# (2,1) Linear Neural Network\n",
    "\n",
    "Two inputs, one output\n",
    "\n",
    "$y = weight[0]*x[0] + weight[1]*x[1] + bias$\n"
   ]
  },
  {
   "cell_type": "code",
   "execution_count": 19,
   "id": "f7de8aff",
   "metadata": {},
   "outputs": [
    {
     "data": {
      "text/plain": [
       "(Parameter containing:\n",
       " tensor([[-0.6589,  0.3121]], requires_grad=True),\n",
       " Parameter containing:\n",
       " tensor([-0.1624], requires_grad=True))"
      ]
     },
     "execution_count": 19,
     "metadata": {},
     "output_type": "execute_result"
    }
   ],
   "source": [
    "net = nn.Linear(2,1)\n",
    "net.weight, net.bias"
   ]
  },
  {
   "cell_type": "markdown",
   "id": "51d073b6",
   "metadata": {},
   "source": [
    "For fun, we also calculate the gradient of y wrt x\n",
    "To this end, we need `x.requires_grad_(True)` and a `detach()` in all x expressions further below"
   ]
  },
  {
   "cell_type": "code",
   "execution_count": 20,
   "id": "a2a1f6ee",
   "metadata": {},
   "outputs": [
    {
     "data": {
      "text/plain": [
       "tensor([-0.1970], grad_fn=<AddBackward0>)"
      ]
     },
     "execution_count": 20,
     "metadata": {},
     "output_type": "execute_result"
    }
   ],
   "source": [
    "x = torch.tensor([1.0, 2.0])\n",
    "x.requires_grad_(True)\n",
    "y = net(x)\n",
    "y"
   ]
  },
  {
   "cell_type": "code",
   "execution_count": 21,
   "id": "c32d0ebe",
   "metadata": {},
   "outputs": [
    {
     "data": {
      "text/plain": [
       "(array([[-0.6588896 ,  0.31214994]], dtype=float32),\n",
       " array([[-0.6588896,  0.6242999]], dtype=float32))"
      ]
     },
     "execution_count": 21,
     "metadata": {},
     "output_type": "execute_result"
    }
   ],
   "source": [
    "net.weight.detach().numpy(), x.detach().numpy()*net.weight.detach().numpy()"
   ]
  },
  {
   "cell_type": "code",
   "execution_count": 22,
   "id": "94da0b50",
   "metadata": {},
   "outputs": [
    {
     "data": {
      "text/plain": [
       "array([-0.1969704], dtype=float32)"
      ]
     },
     "execution_count": 22,
     "metadata": {},
     "output_type": "execute_result"
    }
   ],
   "source": [
    "np.sum(x.detach().numpy()*net.weight.detach().numpy()) + net.bias.detach().numpy()"
   ]
  },
  {
   "cell_type": "code",
   "execution_count": 23,
   "id": "9957d0be",
   "metadata": {},
   "outputs": [
    {
     "data": {
      "text/plain": [
       "[('weight',\n",
       "  Parameter containing:\n",
       "  tensor([[-0.6589,  0.3121]], requires_grad=True)),\n",
       " ('bias',\n",
       "  Parameter containing:\n",
       "  tensor([-0.1624], requires_grad=True))]"
      ]
     },
     "execution_count": 23,
     "metadata": {},
     "output_type": "execute_result"
    }
   ],
   "source": [
    "list(net.named_parameters())"
   ]
  },
  {
   "cell_type": "markdown",
   "id": "3032d83b",
   "metadata": {},
   "source": [
    "Now we calculate the gradient of y wrt to x. The gradient is equal the weights."
   ]
  },
  {
   "cell_type": "code",
   "execution_count": 24,
   "id": "03ad64d0",
   "metadata": {
    "scrolled": true
   },
   "outputs": [
    {
     "name": "stdout",
     "output_type": "stream",
     "text": [
      "tensor([-0.6589,  0.3121])\n"
     ]
    }
   ],
   "source": [
    "y.backward()\n",
    "print(x.grad)"
   ]
  },
  {
   "cell_type": "markdown",
   "id": "55bf6a08",
   "metadata": {},
   "source": [
    "# (2,1) Network with non-linear activation function (tanh)"
   ]
  },
  {
   "cell_type": "code",
   "execution_count": 25,
   "id": "8b22e77f",
   "metadata": {},
   "outputs": [
    {
     "data": {
      "text/plain": [
       "tensor([-0.7648], grad_fn=<TanhBackward>)"
      ]
     },
     "execution_count": 25,
     "metadata": {},
     "output_type": "execute_result"
    }
   ],
   "source": [
    "net = nn.Sequential(nn.Linear(2, 1), nn.Tanh())\n",
    "x = torch.tensor([1.0, 2.0])\n",
    "y = net(x)\n",
    "y"
   ]
  },
  {
   "cell_type": "markdown",
   "id": "e9de419f",
   "metadata": {},
   "source": [
    "What happens? The neural network calculates\n",
    "\n",
    "$y = \\tanh ( weight[0]*x[0] + weight[1]*x[1] + bias )$\n",
    "\n",
    "I.e. it takes the output from the first layer (which is a linear network) and applies the second layer (tanh) to it."
   ]
  },
  {
   "cell_type": "code",
   "execution_count": 26,
   "id": "a8d08ec8",
   "metadata": {},
   "outputs": [
    {
     "data": {
      "text/plain": [
       "array([-0.76476896], dtype=float32)"
      ]
     },
     "execution_count": 26,
     "metadata": {},
     "output_type": "execute_result"
    }
   ],
   "source": [
    "np.tanh(\n",
    "    np.sum(\n",
    "        x.numpy()*net[0].weight.detach().numpy())\n",
    "    + net[0].bias.detach().numpy())"
   ]
  },
  {
   "cell_type": "markdown",
   "id": "76b9882f",
   "metadata": {},
   "source": [
    "# (2,2) Network with non-linear activation function\n",
    "\n",
    "That's now a network with 2 inputs and 2 outputs. Each output is tanh'd"
   ]
  },
  {
   "cell_type": "code",
   "execution_count": 27,
   "id": "52b5fbe1",
   "metadata": {},
   "outputs": [
    {
     "data": {
      "text/plain": [
       "tensor([-0.5356,  0.9079], grad_fn=<TanhBackward>)"
      ]
     },
     "execution_count": 27,
     "metadata": {},
     "output_type": "execute_result"
    }
   ],
   "source": [
    "net = nn.Sequential(nn.Linear(2, 2), nn.Tanh())\n",
    "x = torch.tensor([1.0, 2.0])\n",
    "y = net(x)\n",
    "y"
   ]
  },
  {
   "cell_type": "code",
   "execution_count": 31,
   "id": "1cd909d7",
   "metadata": {},
   "outputs": [
    {
     "data": {
      "text/plain": [
       "(Parameter containing:\n",
       " tensor([[ 0.2782, -0.1811],\n",
       "         [ 0.2763,  0.4370]], requires_grad=True),\n",
       " Parameter containing:\n",
       " tensor([-0.5139,  0.3649], requires_grad=True))"
      ]
     },
     "execution_count": 31,
     "metadata": {},
     "output_type": "execute_result"
    }
   ],
   "source": [
    "net[0].weight, net[0].bias"
   ]
  },
  {
   "cell_type": "code",
   "execution_count": 38,
   "id": "b541e61b",
   "metadata": {},
   "outputs": [
    {
     "data": {
      "text/plain": [
       "array([[ 0.2782038 , -0.36226952],\n",
       "       [ 0.2763092 ,  0.87395585]], dtype=float32)"
      ]
     },
     "execution_count": 38,
     "metadata": {},
     "output_type": "execute_result"
    }
   ],
   "source": [
    "x.numpy()*net[0].weight.detach().numpy()"
   ]
  },
  {
   "cell_type": "code",
   "execution_count": 39,
   "id": "c861264e",
   "metadata": {},
   "outputs": [
    {
     "data": {
      "text/plain": [
       "array([-0.08406574,  1.150265  ], dtype=float32)"
      ]
     },
     "execution_count": 39,
     "metadata": {},
     "output_type": "execute_result"
    }
   ],
   "source": [
    "# the only tricky thing here is that we sum along the rows; this is achieved by the rows=1 keyword. \n",
    "# Default behaviour is summing along columns which is NOT correct in this case\n",
    "np.sum(x.numpy()*net[0].weight.detach().numpy(), axis=1)"
   ]
  },
  {
   "cell_type": "code",
   "execution_count": 40,
   "id": "0b4bb79c",
   "metadata": {},
   "outputs": [
    {
     "data": {
      "text/plain": [
       "array([-0.59801096,  1.5151753 ], dtype=float32)"
      ]
     },
     "execution_count": 40,
     "metadata": {},
     "output_type": "execute_result"
    }
   ],
   "source": [
    "np.sum(x.numpy()*net[0].weight.detach().numpy(), axis=1) + net[0].bias.detach().numpy()"
   ]
  },
  {
   "cell_type": "code",
   "execution_count": 41,
   "id": "f19ae69c",
   "metadata": {},
   "outputs": [
    {
     "data": {
      "text/plain": [
       "array([-0.5356327,  0.9078532], dtype=float32)"
      ]
     },
     "execution_count": 41,
     "metadata": {},
     "output_type": "execute_result"
    }
   ],
   "source": [
    "np.tanh(np.sum(x.numpy()*net[0].weight.detach().numpy(), axis=1) + net[0].bias.detach().numpy())"
   ]
  }
 ],
 "metadata": {
  "kernelspec": {
   "display_name": "Python 3",
   "language": "python",
   "name": "python3"
  },
  "language_info": {
   "codemirror_mode": {
    "name": "ipython",
    "version": 3
   },
   "file_extension": ".py",
   "mimetype": "text/x-python",
   "name": "python",
   "nbconvert_exporter": "python",
   "pygments_lexer": "ipython3",
   "version": "3.9.5"
  }
 },
 "nbformat": 4,
 "nbformat_minor": 5
}
